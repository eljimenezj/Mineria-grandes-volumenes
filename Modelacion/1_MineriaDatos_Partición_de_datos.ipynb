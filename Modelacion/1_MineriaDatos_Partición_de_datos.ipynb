{
  "nbformat": 4,
  "nbformat_minor": 0,
  "metadata": {
    "kernelspec": {
      "display_name": "Python 3",
      "language": "python",
      "name": "python3"
    },
    "language_info": {
      "codemirror_mode": {
        "name": "ipython",
        "version": 3
      },
      "file_extension": ".py",
      "mimetype": "text/x-python",
      "name": "python",
      "nbconvert_exporter": "python",
      "pygments_lexer": "ipython3",
      "version": "3.7.3"
    },
    "colab": {
      "name": "MineriaDatos_Partición de datos.ipynb",
      "provenance": [],
      "collapsed_sections": []
    }
  },
  "cells": [
    {
      "cell_type": "markdown",
      "metadata": {
        "id": "5sZpDQBT3hNq",
        "colab_type": "text"
      },
      "source": [
        "## Notebook para realizar la partición de los datos\n",
        "\n",
        "Este libro de jupyter se utiliza para realizar la partición de los datos que se van a emplear en el modelo, obteniendo de esta manera dos muestra, una de train que se utiliza para el entrenamiento y una de test con el fin de realizar la validación del modelo"
      ]
    },
    {
      "cell_type": "code",
      "metadata": {
        "id": "lE-_laRI3djm",
        "colab_type": "code",
        "colab": {}
      },
      "source": [
        "# Importamos las librerias necesarias\n",
        "import pandas as pd"
      ],
      "execution_count": null,
      "outputs": []
    },
    {
      "cell_type": "code",
      "metadata": {
        "id": "FeNDEELz3djp",
        "colab_type": "code",
        "colab": {}
      },
      "source": [
        "# Realizamos la lectura de la información\n",
        "x =pd.read_csv('10000.txt', \n",
        "               sep='\\t', \n",
        "               header=None,\n",
        "               names=['user','song','play_count'])"
      ],
      "execution_count": null,
      "outputs": []
    },
    {
      "cell_type": "code",
      "metadata": {
        "id": "1Dkj6lhh3djs",
        "colab_type": "code",
        "colab": {}
      },
      "source": [
        "# Realizamos una rapida exploracion de la informacion cargada\n",
        "x.describe"
      ],
      "execution_count": null,
      "outputs": []
    },
    {
      "cell_type": "code",
      "metadata": {
        "id": "BW6-b-7N3djv",
        "colab_type": "code",
        "colab": {},
        "outputId": "76d64e80-6479-466e-b270-687d0b0119db"
      },
      "source": [
        "# Observamos los primeros registros del dataset\n",
        "x.head()"
      ],
      "execution_count": null,
      "outputs": [
        {
          "output_type": "execute_result",
          "data": {
            "text/html": [
              "<div>\n",
              "<style scoped>\n",
              "    .dataframe tbody tr th:only-of-type {\n",
              "        vertical-align: middle;\n",
              "    }\n",
              "\n",
              "    .dataframe tbody tr th {\n",
              "        vertical-align: top;\n",
              "    }\n",
              "\n",
              "    .dataframe thead th {\n",
              "        text-align: right;\n",
              "    }\n",
              "</style>\n",
              "<table border=\"1\" class=\"dataframe\">\n",
              "  <thead>\n",
              "    <tr style=\"text-align: right;\">\n",
              "      <th></th>\n",
              "      <th>user</th>\n",
              "      <th>song</th>\n",
              "      <th>play_count</th>\n",
              "    </tr>\n",
              "  </thead>\n",
              "  <tbody>\n",
              "    <tr>\n",
              "      <th>0</th>\n",
              "      <td>b80344d063b5ccb3212f76538f3d9e43d87dca9e</td>\n",
              "      <td>SOAKIMP12A8C130995</td>\n",
              "      <td>1.0</td>\n",
              "    </tr>\n",
              "    <tr>\n",
              "      <th>1</th>\n",
              "      <td>b80344d063b5ccb3212f76538f3d9e43d87dca9e</td>\n",
              "      <td>SOBBMDR12A8C13253B</td>\n",
              "      <td>2.0</td>\n",
              "    </tr>\n",
              "    <tr>\n",
              "      <th>2</th>\n",
              "      <td>b80344d063b5ccb3212f76538f3d9e43d87dca9e</td>\n",
              "      <td>SOBXHDL12A81C204C0</td>\n",
              "      <td>1.0</td>\n",
              "    </tr>\n",
              "    <tr>\n",
              "      <th>3</th>\n",
              "      <td>b80344d063b5ccb3212f76538f3d9e43d87dca9e</td>\n",
              "      <td>SOBYHAJ12A6701BF1D</td>\n",
              "      <td>1.0</td>\n",
              "    </tr>\n",
              "    <tr>\n",
              "      <th>4</th>\n",
              "      <td>b80344d063b5ccb3212f76538f3d9e43d87dca9e</td>\n",
              "      <td>SODACBL12A8C13C273</td>\n",
              "      <td>1.0</td>\n",
              "    </tr>\n",
              "  </tbody>\n",
              "</table>\n",
              "</div>"
            ],
            "text/plain": [
              "                                       user                song  play_count\n",
              "0  b80344d063b5ccb3212f76538f3d9e43d87dca9e  SOAKIMP12A8C130995         1.0\n",
              "1  b80344d063b5ccb3212f76538f3d9e43d87dca9e  SOBBMDR12A8C13253B         2.0\n",
              "2  b80344d063b5ccb3212f76538f3d9e43d87dca9e  SOBXHDL12A81C204C0         1.0\n",
              "3  b80344d063b5ccb3212f76538f3d9e43d87dca9e  SOBYHAJ12A6701BF1D         1.0\n",
              "4  b80344d063b5ccb3212f76538f3d9e43d87dca9e  SODACBL12A8C13C273         1.0"
            ]
          },
          "metadata": {
            "tags": []
          },
          "execution_count": 4
        }
      ]
    },
    {
      "cell_type": "code",
      "metadata": {
        "id": "Gf_9CPXL3djy",
        "colab_type": "code",
        "colab": {}
      },
      "source": [
        "# Creamos un dataframe para almacenar los datos de test\n",
        "x_test = pd.DataFrame(columns=['user','song','play_count'])"
      ],
      "execution_count": null,
      "outputs": []
    },
    {
      "cell_type": "code",
      "metadata": {
        "id": "FDo5UhNw3dj1",
        "colab_type": "code",
        "colab": {},
        "outputId": "1d2a7649-fa01-4281-c20d-3a3207112832"
      },
      "source": [
        "# Se realiza una particion de los datos, tomando el 25% de la muestra\n",
        "# original con el fin de utilizarlos para el testeo del modelo\n",
        "%time\n",
        "\n",
        "for i in x['user'].unique().tolist():\n",
        "    x_1 = x[x[\"user\"] == i].sample(frac=0.25)\n",
        "    x_test = pd.concat([x_test, x_1])"
      ],
      "execution_count": null,
      "outputs": [
        {
          "output_type": "stream",
          "text": [
            "Wall time: 0 ns\n"
          ],
          "name": "stdout"
        }
      ]
    },
    {
      "cell_type": "code",
      "metadata": {
        "id": "G9yAIFwT3dj4",
        "colab_type": "code",
        "colab": {}
      },
      "source": [
        "# Almacenamos los datos de test en formato csv\n",
        "x_test.to_csv('x_test.csv')"
      ],
      "execution_count": null,
      "outputs": []
    },
    {
      "cell_type": "code",
      "metadata": {
        "id": "qbAYY5Gg3dj8",
        "colab_type": "code",
        "colab": {}
      },
      "source": [
        "# Hacemos un renombramiento de una columna del df para mas adelante\n",
        "# realizar un full outer join entre el dataset completo y el test\n",
        "# para obtener los datos de train\n",
        "x_testR=x_test.rename(columns={\"play_count\": \"a\"});"
      ],
      "execution_count": null,
      "outputs": []
    },
    {
      "cell_type": "code",
      "metadata": {
        "id": "swPJNag_3dj-",
        "colab_type": "code",
        "colab": {}
      },
      "source": [
        "# Obtenemos los datos train\n",
        "x_train=x.merge(x_testR, \n",
        "                on = ['user','song'] ,\n",
        "                how='left',indicator = 'i').query('i == \"left_only\"').drop(['a', 'i'], axis=1)"
      ],
      "execution_count": null,
      "outputs": []
    },
    {
      "cell_type": "code",
      "metadata": {
        "id": "v9NggRTa3dkB",
        "colab_type": "code",
        "colab": {}
      },
      "source": [
        "# Y almacenamos finalmente los datos de train en formato csv\n",
        "x_train.to_csv('x_train.csv')"
      ],
      "execution_count": null,
      "outputs": []
    }
  ]
}